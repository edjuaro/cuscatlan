{
 "cells": [
  {
   "cell_type": "markdown",
   "metadata": {},
   "source": [
    "<div class=\"alert alert-success\">\n",
    "Note: if this notebook is taking too long to run, consider using the module HierarchicalClustering v7.3.4 available on gp-beta-ami.genepattern.org"
   ]
  },
  {
   "cell_type": "markdown",
   "metadata": {},
   "source": [
    "\n",
    "\n",
    "A note on some of the parameters we are using:\n",
    "\n",
    "- **gene expression**: We use a compilation of 19 RNASeq samples taken from TCGA, 9 of those are Breast Cancer primary tumors (BRCA) and 10 are matched normal tissue. Here is the GCT file which contains those HTSeq counts:  \n",
    "https://datasets.genepattern.org/data/test_data/BRCA_minimal_60x19.gct"
   ]
  },
  {
   "cell_type": "code",
   "execution_count": 12,
   "metadata": {
    "genepattern": {
     "param_values": {
      "clustering_type": "Single",
      "clusters_to_highlight": "3",
      "distance_metric": "pearson",
      "file_basename": "HC_out",
      "input_gene_expression": "https://datasets.genepattern.org/data/test_data/BRCA_minimal_60x19.gct"
     },
     "show_code": false,
     "type": "uibuilder"
    },
    "scrolled": false
   },
   "outputs": [
    {
     "data": {
      "application/vnd.jupyter.widget-view+json": {
       "model_id": "6bb778736938447aad3827b0c8671e39",
       "version_major": 2,
       "version_minor": 0
      },
      "text/html": [
       "<p>Failed to display Jupyter Widget of type <code>GPUIBuilder</code>.</p>\n",
       "<p>\n",
       "  If you're reading this message in the Jupyter Notebook or JupyterLab Notebook, it may mean\n",
       "  that the widgets JavaScript is still loading. If this message persists, it\n",
       "  likely means that the widgets JavaScript library is either not installed or\n",
       "  not enabled. See the <a href=\"https://ipywidgets.readthedocs.io/en/stable/user_install.html\">Jupyter\n",
       "  Widgets Documentation</a> for setup instructions.\n",
       "</p>\n",
       "<p>\n",
       "  If you're reading this message in another frontend (for example, a static\n",
       "  rendering on GitHub or <a href=\"https://nbviewer.jupyter.org/\">NBViewer</a>),\n",
       "  it may mean that your frontend doesn't currently support widgets.\n",
       "</p>\n"
      ],
      "text/plain": [
       "GPUIBuilder(description='This function performs hierarchical clustering to group samples (columns) and/or genes (rows) with similar expression profiles.', function_import='HierarchicalClustering', name='Advanded Hierarchical Clustering.', params=[{'name': 'pwd', 'label': 'pwd', 'optional': False, 'default': '.', 'description': 'The current directory', 'hide': True, 'type': 'text', 'kinds': None, 'choices': []}, {'name': 'gct_name', 'label': 'gct_name', 'optional': False, 'default': '', 'description': 'Gene expression data filename (.gct file) where rows are genes and columns are samples', 'hide': False, 'type': 'text', 'kinds': None, 'choices': []}, {'name': 'col_distance_metric', 'label': 'col_distance_metric', 'optional': False, 'default': 'pearson', 'description': 'The function to be used when comparing the distance/similarity of the columns in the gct_name dataset', 'hide': False, 'type': 'text', 'kinds': None, 'choices': {'Information Coefficient': 'information_coefficient', 'City Block (Manhattan or L1-norm)': 'manhattan', 'Euclidean (L2-norm)': 'euclidean', 'Pearson Correlation': 'pearson', 'Uncentered Pearson Correlation': 'uncentered_pearson', 'Uncentered Pearson Correlation, absolute value': 'absolute_uncentered_pearson', 'Spearman Correlation': 'spearman', \"Kendall's Tau\": 'kendall', 'Cosine distance': 'cosine'}}, {'name': 'row_distance_metric', 'label': 'row_distance_metric', 'optional': False, 'default': 'pearson', 'description': 'The function to be used when comparing the distance/similarity of the rows in the gct_name dataset', 'hide': False, 'type': 'text', 'kinds': None, 'choices': {'Information Coefficient': 'information_coefficient', 'City Block (Manhattan or L1-norm)': 'manhattan', 'Euclidean (L2-norm)': 'euclidean', 'Pearson Correlation': 'pearson', 'Uncentered Pearson Correlation': 'uncentered_pearson', 'Uncentered Pearson Correlation, absolute value': 'absolute_uncentered_pearson', 'Spearman Correlation': 'spearman', \"Kendall's Tau\": 'kendall', 'Cosine distance': 'cosine'}}, {'name': 'clustering_method', 'label': 'clustering_method', 'optional': True, 'default': 'average', 'description': 'Type of linkage to use', 'hide': False, 'type': 'text', 'kinds': None, 'choices': {'Pairwise average-linkage': 'average', 'Pairwise complete-linkage': 'complete', 'Pairwise ward-linkage': 'ward'}}, {'name': 'output_base_name', 'label': 'output_base_name', 'optional': True, 'default': 'HC_output', 'description': 'Base name for output file', 'hide': False, 'type': 'text', 'kinds': None, 'choices': []}, {'name': 'row_normalization', 'label': 'row_normalization', 'optional': True, 'default': False, 'description': 'Whether to normalize each row (gene) in the data', 'hide': False, 'type': 'choice', 'kinds': None, 'choices': {'True': 'true', 'False': 'false'}}, {'name': 'col_normalization', 'label': 'col_normalization', 'optional': True, 'default': False, 'description': 'Whether to normalize each column (sample) in the data', 'hide': False, 'type': 'choice', 'kinds': None, 'choices': {'True': 'true', 'False': 'false'}}, {'name': 'row_centering', 'label': 'row_centering', 'optional': True, 'default': 'Mean', 'description': 'How to center each row (gene) in the data', 'hide': False, 'type': 'text', 'kinds': None, 'choices': {'Subtract the mean from each row': 'Mean', 'Subtract the median from each row': 'Median', 'No': None}}, {'name': 'col_centering', 'label': 'col_centering', 'optional': True, 'default': 'Mean', 'description': 'How to center each column (sample) in the data', 'hide': False, 'type': 'text', 'kinds': None, 'choices': {'Subtract the mean from each column': 'Mean', 'Subtract the median from each column': 'Median', 'No': None}}, {'name': 'output_distances', 'label': 'output_distances', 'optional': True, 'default': False, 'description': 'Whether or not output the pair-wise distance matrix. If true, the distance between each column will be called, which can be very computationally intensive. If unsure, leave as False.', 'hide': False, 'type': 'choice', 'kinds': None, 'choices': {'True': 'true', 'False': 'false'}}, {'name': 'custom_plot', 'label': 'custom_plot', 'optional': True, 'default': 'Both', 'description': 'Plot the dendrograms by Genes, Samples, or Both', 'hide': False, 'type': 'text', 'kinds': None, 'choices': {'Plot dendrogram only for samples': 'Samples', 'Plot dendrogram only for genes': 'Genes', 'Plot dendrogram for both samples and genes': 'Both'}}, {'name': 'clusters_to_highlight', 'label': 'clusters_to_highlight', 'optional': True, 'default': 2, 'description': 'How many clusters to highlight in the dendrogram', 'hide': False, 'type': 'number', 'kinds': None, 'choices': []}, {'name': 'show', 'label': 'show', 'optional': True, 'default': True, 'description': 'Whether to show the plot at the end', 'hide': True, 'type': 'choice', 'kinds': None, 'choices': {'True': 'true', 'False': 'false'}}])"
      ]
     },
     "metadata": {},
     "output_type": "display_data"
    }
   ],
   "source": [
    "import genepattern\n",
    "# import cuzcatlan as cusca\n",
    "# import pandas as pd    \n",
    "from cuzcatlan import HierarchicalClustering\n",
    "\n",
    "genepattern.GPUIBuilder(HierarchicalClustering, name=\"Advanded Hierarchical Clustering.\", \n",
    "                        description=\"This function performs hierarchical clustering to group samples (columns) and/or genes (rows) with similar expression profiles.\",\n",
    "                        parameters={\n",
    "                                \"pwd\": { \"hide\": True, \"default\": '.' },\n",
    "                                \"show\": { \"hide\": True, \"default\": True },\n",
    "                                \"col_distance_metric\":{\n",
    "                                                      \"default\": \"pearson\",\n",
    "                                                      \"choices\":{'Information Coefficient':\"information_coefficient\",\n",
    "                                                                 'City Block (Manhattan or L1-norm)':'manhattan',\n",
    "                                                                 'Euclidean (L2-norm)':\"euclidean\",\n",
    "                                                                 'Pearson Correlation':\"pearson\",\n",
    "                                                                 'Uncentered Pearson Correlation':'uncentered_pearson',\n",
    "                                                                 'Uncentered Pearson Correlation, absolute value':'absolute_uncentered_pearson',\n",
    "                                                                 'Spearman Correlation':'spearman',\n",
    "                                                                 \"Kendall's Tau\": 'kendall',\n",
    "                                                                 'Cosine distance':'cosine',\n",
    "                                                                }\n",
    "                                                     },\n",
    "                            \"row_distance_metric\":{\n",
    "                                                      \"default\": \"pearson\",\n",
    "                                                      \"choices\":{'Information Coefficient':\"information_coefficient\",\n",
    "                                                                 'City Block (Manhattan or L1-norm)':'manhattan',\n",
    "                                                                 'Euclidean (L2-norm)':\"euclidean\",\n",
    "                                                                 'Pearson Correlation':\"pearson\",\n",
    "                                                                 'Uncentered Pearson Correlation':'uncentered_pearson',\n",
    "                                                                 'Uncentered Pearson Correlation, absolute value':'absolute_uncentered_pearson',\n",
    "                                                                 'Spearman Correlation':'spearman',\n",
    "                                                                 \"Kendall's Tau\": 'kendall',\n",
    "                                                                 'Cosine distance':'cosine',\n",
    "                                                                }\n",
    "                                                     },\n",
    "                            \"clustering_method\":{\n",
    "                                                  \"default\": \"average\",\n",
    "                                                  \"choices\":{'Pairwise average-linkage':\"average\",\n",
    "                                                             'Pairwise complete-linkage':'complete',\n",
    "                                                             'Pairwise ward-linkage':'ward',\n",
    "                                                            }\n",
    "                                                     },\n",
    "                            \"row_centering\":{\n",
    "                                              \"default\": \"Mean\",\n",
    "                                              \"choices\":{'Subtract the mean from each row':\"Mean\",\n",
    "                                                         'Subtract the median from each row':'Median',\n",
    "                                                         'No':None,\n",
    "                                                        }\n",
    "                                                 },\n",
    "                            \"col_centering\":{\n",
    "                                              \"default\": \"Mean\",\n",
    "                                              \"choices\":{'Subtract the mean from each column':\"Mean\",\n",
    "                                                         'Subtract the median from each column':'Median',\n",
    "                                                         'No':None,\n",
    "                                                        }\n",
    "                                                 },\n",
    "                            \"custom_plot\":{\n",
    "                                              \"default\": \"Both\",\n",
    "                                              \"choices\":{'Plot dendrogram only for samples':\"Samples\",\n",
    "                                                         'Plot dendrogram only for genes':'Genes',\n",
    "                                                         'Plot dendrogram for both samples and genes':'Both',\n",
    "                                                        }\n",
    "                                                 },\n",
    "                            \n",
    "                        })"
   ]
  },
  {
   "cell_type": "code",
   "execution_count": null,
   "metadata": {
    "collapsed": true
   },
   "outputs": [],
   "source": []
  }
 ],
 "metadata": {
  "kernelspec": {
   "display_name": "Python 3.6",
   "language": "python",
   "name": "python3.6"
  },
  "language_info": {
   "codemirror_mode": {
    "name": "ipython",
    "version": 3
   },
   "file_extension": ".py",
   "mimetype": "text/x-python",
   "name": "python",
   "nbconvert_exporter": "python",
   "pygments_lexer": "ipython3",
   "version": "3.6.1"
  }
 },
 "nbformat": 4,
 "nbformat_minor": 2
}
